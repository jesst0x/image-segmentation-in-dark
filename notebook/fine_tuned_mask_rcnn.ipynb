{
  "nbformat": 4,
  "nbformat_minor": 0,
  "metadata": {
    "colab": {
      "provenance": [],
      "gpuType": "T4",
      "authorship_tag": "ABX9TyPt5A4/tO2dfLj3BpDbFYuV",
      "include_colab_link": true
    },
    "kernelspec": {
      "name": "python3",
      "display_name": "Python 3"
    },
    "language_info": {
      "name": "python"
    },
    "accelerator": "GPU"
  },
  "cells": [
    {
      "cell_type": "markdown",
      "metadata": {
        "id": "view-in-github",
        "colab_type": "text"
      },
      "source": [
        "<a href=\"https://colab.research.google.com/github/jesst0x/image-segmentation-in-dark/blob/main/notebook/fine_tuned_mask_rcnn.ipynb\" target=\"_parent\"><img src=\"https://colab.research.google.com/assets/colab-badge.svg\" alt=\"Open In Colab\"/></a>"
      ]
    },
    {
      "cell_type": "code",
      "execution_count": 1,
      "metadata": {
        "colab": {
          "base_uri": "https://localhost:8080/"
        },
        "id": "aZmxyU-rQE4k",
        "outputId": "b1e1cf90-e3b4-4356-8037-fa477d04a7ae"
      },
      "outputs": [
        {
          "output_type": "stream",
          "name": "stdout",
          "text": [
            "Mounted at /content/drive\n"
          ]
        }
      ],
      "source": [
        "from google.colab import drive\n",
        "drive.mount('/content/drive')\n",
        "\n",
        "FOLDERNAME = 'AI/'\n",
        "assert FOLDERNAME is not None, \"[!] Enter the foldername.\"\n",
        "\n",
        "# Now that we've mounted your Drive, this ensures that\n",
        "# the Python interpreter of the Colab VM can load\n",
        "# python files from within it.\n",
        "import sys\n",
        "sys.path.append('/content/drive/My Drive/{}'.format(FOLDERNAME))"
      ]
    },
    {
      "cell_type": "code",
      "source": [
        "!echo \"deb http://packages.cloud.google.com/apt gcsfuse-bionic main\" > /etc/apt/sources.list.d/gcsfuse.list\n",
        "!curl https://packages.cloud.google.com/apt/doc/apt-key.gpg | apt-key add -\n",
        "!apt -qq update\n",
        "!apt -qq install gcsfuse"
      ],
      "metadata": {
        "colab": {
          "base_uri": "https://localhost:8080/"
        },
        "id": "2pcQkQfsKCED",
        "outputId": "a48a0120-058a-43bb-f58b-128ecbce5d9d"
      },
      "execution_count": 2,
      "outputs": [
        {
          "output_type": "stream",
          "name": "stdout",
          "text": [
            "  % Total    % Received % Xferd  Average Speed   Time    Time     Time  Current\n",
            "                                 Dload  Upload   Total   Spent    Left  Speed\n",
            "\r  0     0    0     0    0     0      0      0 --:--:-- --:--:-- --:--:--     0\r100  2659  100  2659    0     0  28094      0 --:--:-- --:--:-- --:--:-- 28287\n",
            "Warning: apt-key is deprecated. Manage keyring files in trusted.gpg.d instead (see apt-key(8)).\n",
            "OK\n",
            "45 packages can be upgraded. Run 'apt list --upgradable' to see them.\n",
            "\u001b[1;33mW: \u001b[0mhttp://packages.cloud.google.com/apt/dists/gcsfuse-bionic/InRelease: Key is stored in legacy trusted.gpg keyring (/etc/apt/trusted.gpg), see the DEPRECATION section in apt-key(8) for details.\u001b[0m\n",
            "The following NEW packages will be installed:\n",
            "  gcsfuse\n",
            "0 upgraded, 1 newly installed, 0 to remove and 45 not upgraded.\n",
            "Need to get 10.5 MB of archives.\n",
            "After this operation, 0 B of additional disk space will be used.\n",
            "Selecting previously unselected package gcsfuse.\n",
            "(Reading database ... 121918 files and directories currently installed.)\n",
            "Preparing to unpack .../gcsfuse_2.1.0_amd64.deb ...\n",
            "Unpacking gcsfuse (2.1.0) ...\n",
            "Setting up gcsfuse (2.1.0) ...\n"
          ]
        }
      ]
    },
    {
      "cell_type": "code",
      "source": [
        "### Connect to gs bucket\n",
        "from google.colab import auth\n",
        "auth.authenticate_user()"
      ],
      "metadata": {
        "id": "66qVYf5VJ1k1"
      },
      "execution_count": 3,
      "outputs": []
    },
    {
      "cell_type": "code",
      "source": [
        "# Loading data from gs bucket\n",
        "!mkdir coco\n",
        "!gcsfuse cs231n_lls coco\n",
        "!gcsfuse --implicit-dirs cs231n_lls coco"
      ],
      "metadata": {
        "colab": {
          "base_uri": "https://localhost:8080/"
        },
        "id": "voyZYD3wKC3x",
        "outputId": "6f8f17df-2418-49d2-a4b0-ad96faaa413f"
      },
      "execution_count": 4,
      "outputs": [
        {
          "output_type": "stream",
          "name": "stdout",
          "text": [
            "{\"timestamp\":{\"seconds\":1716773273,\"nanos\":689614606},\"severity\":\"INFO\",\"message\":\"Start gcsfuse/2.1.0 (Go version go1.22.3) for app \\\"\\\" using mount point: /content/coco\\n\"}\n",
            "{\"timestamp\":{\"seconds\":1716773273,\"nanos\":689818034},\"severity\":\"INFO\",\"message\":\"GCSFuse mount command flags: {\\\"AppName\\\":\\\"\\\",\\\"Foreground\\\":false,\\\"ConfigFile\\\":\\\"\\\",\\\"MountOptions\\\":{},\\\"DirMode\\\":493,\\\"FileMode\\\":420,\\\"Uid\\\":-1,\\\"Gid\\\":-1,\\\"ImplicitDirs\\\":false,\\\"OnlyDir\\\":\\\"\\\",\\\"RenameDirLimit\\\":0,\\\"IgnoreInterrupts\\\":false,\\\"CustomEndpoint\\\":null,\\\"BillingProject\\\":\\\"\\\",\\\"KeyFile\\\":\\\"\\\",\\\"TokenUrl\\\":\\\"\\\",\\\"ReuseTokenFromUrl\\\":true,\\\"EgressBandwidthLimitBytesPerSecond\\\":-1,\\\"OpRateLimitHz\\\":-1,\\\"SequentialReadSizeMb\\\":200,\\\"AnonymousAccess\\\":false,\\\"MaxRetrySleep\\\":30000000000,\\\"StatCacheCapacity\\\":20460,\\\"StatCacheTTL\\\":60000000000,\\\"TypeCacheTTL\\\":60000000000,\\\"HttpClientTimeout\\\":0,\\\"MaxRetryDuration\\\":-1000000000,\\\"RetryMultiplier\\\":2,\\\"LocalFileCache\\\":false,\\\"TempDir\\\":\\\"\\\",\\\"ClientProtocol\\\":\\\"http1\\\",\\\"MaxConnsPerHost\\\":0,\\\"MaxIdleConnsPerHost\\\":100,\\\"EnableNonexistentTypeCache\\\":false,\\\"StackdriverExportInterval\\\":0,\\\"OtelCollectorAddress\\\":\\\"\\\",\\\"LogFile\\\":\\\"\\\",\\\"LogFormat\\\":\\\"json\\\",\\\"ExperimentalEnableJsonRead\\\":false,\\\"DebugFuseErrors\\\":true,\\\"DebugFuse\\\":false,\\\"DebugFS\\\":false,\\\"DebugGCS\\\":false,\\\"DebugHTTP\\\":false,\\\"DebugInvariants\\\":false,\\\"DebugMutex\\\":false}\"}\n",
            "{\"timestamp\":{\"seconds\":1716773273,\"nanos\":689919201},\"severity\":\"INFO\",\"message\":\"GCSFuse mount config flags: {\\\"CreateEmptyFile\\\":false,\\\"Severity\\\":\\\"INFO\\\",\\\"Format\\\":\\\"json\\\",\\\"FilePath\\\":\\\"\\\",\\\"LogRotateConfig\\\":{\\\"MaxFileSizeMB\\\":512,\\\"BackupFileCount\\\":10,\\\"Compress\\\":true},\\\"MaxSizeMB\\\":-1,\\\"CacheFileForRangeRead\\\":false,\\\"CacheDir\\\":\\\"\\\",\\\"TtlInSeconds\\\":-9223372036854775808,\\\"TypeCacheMaxSizeMB\\\":4,\\\"StatCacheMaxSizeMB\\\":-9223372036854775808,\\\"EnableEmptyManagedFolders\\\":false,\\\"ConnPoolSize\\\":1,\\\"AnonymousAccess\\\":false,\\\"EnableHNS\\\":false,\\\"IgnoreInterrupts\\\":false}\"}\n",
            "{\"timestamp\":{\"seconds\":1716773274,\"nanos\":208273936},\"severity\":\"INFO\",\"message\":\"File system has been successfully mounted.\"}\n",
            "{\"timestamp\":{\"seconds\":1716773274,\"nanos\":295385185},\"severity\":\"INFO\",\"message\":\"Start gcsfuse/2.1.0 (Go version go1.22.3) for app \\\"\\\" using mount point: /content/coco\\n\"}\n",
            "{\"timestamp\":{\"seconds\":1716773274,\"nanos\":295610999},\"severity\":\"INFO\",\"message\":\"GCSFuse mount command flags: {\\\"AppName\\\":\\\"\\\",\\\"Foreground\\\":false,\\\"ConfigFile\\\":\\\"\\\",\\\"MountOptions\\\":{},\\\"DirMode\\\":493,\\\"FileMode\\\":420,\\\"Uid\\\":-1,\\\"Gid\\\":-1,\\\"ImplicitDirs\\\":true,\\\"OnlyDir\\\":\\\"\\\",\\\"RenameDirLimit\\\":0,\\\"IgnoreInterrupts\\\":false,\\\"CustomEndpoint\\\":null,\\\"BillingProject\\\":\\\"\\\",\\\"KeyFile\\\":\\\"\\\",\\\"TokenUrl\\\":\\\"\\\",\\\"ReuseTokenFromUrl\\\":true,\\\"EgressBandwidthLimitBytesPerSecond\\\":-1,\\\"OpRateLimitHz\\\":-1,\\\"SequentialReadSizeMb\\\":200,\\\"AnonymousAccess\\\":false,\\\"MaxRetrySleep\\\":30000000000,\\\"StatCacheCapacity\\\":20460,\\\"StatCacheTTL\\\":60000000000,\\\"TypeCacheTTL\\\":60000000000,\\\"HttpClientTimeout\\\":0,\\\"MaxRetryDuration\\\":-1000000000,\\\"RetryMultiplier\\\":2,\\\"LocalFileCache\\\":false,\\\"TempDir\\\":\\\"\\\",\\\"ClientProtocol\\\":\\\"http1\\\",\\\"MaxConnsPerHost\\\":0,\\\"MaxIdleConnsPerHost\\\":100,\\\"EnableNonexistentTypeCache\\\":false,\\\"StackdriverExportInterval\\\":0,\\\"OtelCollectorAddress\\\":\\\"\\\",\\\"LogFile\\\":\\\"\\\",\\\"LogFormat\\\":\\\"json\\\",\\\"ExperimentalEnableJsonRead\\\":false,\\\"DebugFuseErrors\\\":true,\\\"DebugFuse\\\":false,\\\"DebugFS\\\":false,\\\"DebugGCS\\\":false,\\\"DebugHTTP\\\":false,\\\"DebugInvariants\\\":false,\\\"DebugMutex\\\":false}\"}\n",
            "{\"timestamp\":{\"seconds\":1716773274,\"nanos\":295708789},\"severity\":\"INFO\",\"message\":\"GCSFuse mount config flags: {\\\"CreateEmptyFile\\\":false,\\\"Severity\\\":\\\"INFO\\\",\\\"Format\\\":\\\"json\\\",\\\"FilePath\\\":\\\"\\\",\\\"LogRotateConfig\\\":{\\\"MaxFileSizeMB\\\":512,\\\"BackupFileCount\\\":10,\\\"Compress\\\":true},\\\"MaxSizeMB\\\":-1,\\\"CacheFileForRangeRead\\\":false,\\\"CacheDir\\\":\\\"\\\",\\\"TtlInSeconds\\\":-9223372036854775808,\\\"TypeCacheMaxSizeMB\\\":4,\\\"StatCacheMaxSizeMB\\\":-9223372036854775808,\\\"EnableEmptyManagedFolders\\\":false,\\\"ConnPoolSize\\\":1,\\\"AnonymousAccess\\\":false,\\\"EnableHNS\\\":false,\\\"IgnoreInterrupts\\\":false}\"}\n",
            "{\"timestamp\":{\"seconds\":1716773274,\"nanos\":616949839},\"severity\":\"INFO\",\"message\":\"File system has been successfully mounted.\"}\n"
          ]
        }
      ]
    },
    {
      "cell_type": "code",
      "source": [
        "import os\n",
        "# Get reference util library from pytorch.\n",
        "os.system(\"wget https://raw.githubusercontent.com/pytorch/vision/main/references/detection/engine.py\")\n",
        "os.system(\"wget https://raw.githubusercontent.com/pytorch/vision/main/references/detection/utils.py\")\n",
        "os.system(\"wget https://raw.githubusercontent.com/pytorch/vision/main/references/detection/coco_utils.py\")\n",
        "os.system(\"wget https://raw.githubusercontent.com/pytorch/vision/main/references/detection/coco_eval.py\")\n",
        "os.system(\"wget https://raw.githubusercontent.com/pytorch/vision/main/references/detection/transforms.py\")"
      ],
      "metadata": {
        "colab": {
          "base_uri": "https://localhost:8080/"
        },
        "id": "m7Pt_kKMoifW",
        "outputId": "7f57fb46-66d6-43e2-d599-392397dd729b"
      },
      "execution_count": 5,
      "outputs": [
        {
          "output_type": "execute_result",
          "data": {
            "text/plain": [
              "0"
            ]
          },
          "metadata": {},
          "execution_count": 5
        }
      ]
    },
    {
      "cell_type": "code",
      "source": [
        "import numpy as np\n",
        "import matplotlib.pyplot as plt\n",
        "import torch\n",
        "import torchvision.transforms.v2 as transforms\n",
        "import torchvision.transforms.functional as F\n",
        "from torch.utils.data import DataLoader\n",
        "from torchvision.transforms import ToTensor, PILToTensor\n",
        "from torchvision.utils import make_grid, draw_segmentation_masks\n",
        "from torchvision.models.detection import maskrcnn_resnet50_fpn, MaskRCNN_ResNet50_FPN_Weights\n",
        "from torchvision import models, datasets, tv_tensors\n",
        "from torchvision.io import read_image\n",
        "from pathlib import Path\n",
        "from engine import train_one_epoch, evaluate\n",
        "import utils\n",
        "\n",
        "%matplotlib inline\n",
        "plt.rcParams['figure.figsize'] = (10.0, 8.0) # set default size of plots\n",
        "plt.rcParams['image.interpolation'] = 'nearest'\n",
        "plt.rcParams['image.cmap'] = 'gray'\n",
        "\n",
        "# Some more magic so that the notebook will reload external python modules;\n",
        "# see http://stackoverflow.com/questions/1907993/autoreload-of-modules-in-ipython\n",
        "%load_ext autoreload\n",
        "%autoreload 2"
      ],
      "metadata": {
        "id": "XYh0nygmQa6s"
      },
      "execution_count": 6,
      "outputs": []
    },
    {
      "cell_type": "code",
      "source": [
        "def show(imgs):\n",
        "    if not isinstance(imgs, list):\n",
        "        imgs = [imgs]\n",
        "    fig, axs = plt.subplots(ncols=len(imgs), squeeze=False)\n",
        "    for i, img in enumerate(imgs):\n",
        "        img = img.detach()\n",
        "        img = F.to_pil_image(img)\n",
        "        axs[0, i].imshow(np.asarray(img))\n",
        "        axs[0, i].set(xticklabels=[], yticklabels=[], xticks=[], yticks=[])"
      ],
      "metadata": {
        "id": "RqSoJA51WvRB"
      },
      "execution_count": 7,
      "outputs": []
    },
    {
      "cell_type": "code",
      "source": [
        "# train on the gpu, or on cpu if a gpu is not available\n",
        "device = torch.device('cuda') if torch.cuda.is_available() else torch.device('cpu')"
      ],
      "metadata": {
        "collapsed": true,
        "id": "Czb2WDOMo2yx"
      },
      "execution_count": 8,
      "outputs": []
    },
    {
      "cell_type": "markdown",
      "source": [
        "###Loading Dataset"
      ],
      "metadata": {
        "id": "7oLJnCV4nmPG"
      }
    },
    {
      "cell_type": "code",
      "source": [
        "### Loading Training dataset\n",
        "TRAINING_IMAGES_PATH = Path(\"/content/coco/coco/coco_train5000_augmented\")\n",
        "TRAINING_ANNOTATIONS_PATH = Path(\"/content/coco/coco/instances_train2017_subset5000.json\")\n",
        "\n",
        "train_dataset = datasets.CocoDetection(TRAINING_IMAGES_PATH, TRAINING_ANNOTATIONS_PATH, transform=ToTensor())\n",
        "train_dataset = datasets.wrap_dataset_for_transforms_v2(train_dataset, target_keys=(\"all\"))\n",
        "l, t = train_dataset[0]\n",
        "\n",
        "# Only take subset of 200 for quick experiment at colab\n",
        "indices = torch.randperm(len(train_dataset)).tolist()\n",
        "subset = torch.utils.data.Subset(train_dataset, indices[:200])\n",
        "\n",
        "train_dataloader = torch.utils.data.DataLoader(\n",
        "    subset,\n",
        "    batch_size=4,\n",
        "    shuffle=True,\n",
        "    collate_fn=utils.collate_fn,\n",
        "    num_workers=2,\n",
        ")"
      ],
      "metadata": {
        "colab": {
          "base_uri": "https://localhost:8080/"
        },
        "id": "j4Wu0k3bnkwv",
        "outputId": "000e030f-13d4-4244-d49f-642b719853b6"
      },
      "execution_count": 10,
      "outputs": [
        {
          "output_type": "stream",
          "name": "stdout",
          "text": [
            "loading annotations into memory...\n",
            "Done (t=0.80s)\n",
            "creating index...\n",
            "index created!\n"
          ]
        }
      ]
    },
    {
      "cell_type": "code",
      "source": [
        "label, target = next(iter(train_dataloader))\n",
        "# print(label[0])\n",
        "print(target[0].keys())"
      ],
      "metadata": {
        "colab": {
          "base_uri": "https://localhost:8080/"
        },
        "id": "FOxKeBMdVaah",
        "outputId": "dbbc8f60-4e67-40b0-b48d-20d34ff22089"
      },
      "execution_count": null,
      "outputs": [
        {
          "output_type": "stream",
          "name": "stdout",
          "text": [
            "dict_keys(['image_id', 'boxes', 'masks', 'labels', 'bbox', 'segmentation', 'area', 'iscrowd', 'category_id'])\n"
          ]
        }
      ]
    },
    {
      "cell_type": "code",
      "source": [
        "### Loading 500 Synthetic Low Light Validation Set\n",
        "VAL500_AUGMENTED_IMAGES_PATH = Path(\"/content/coco/coco/coco_val500_augmented\")\n",
        "VAL500_ANNOTATIONS_PATH = Path(\"/content/drive/MyDrive/AI/coco/instances_val2017_subset500.json\")\n",
        "\n",
        "val_augmented_dataset = datasets.CocoDetection(VAL500_AUGMENTED_IMAGES_PATH, VAL500_ANNOTATIONS_PATH, transform=ToTensor())\n",
        "val_augmented_dataset = datasets.wrap_dataset_for_transforms_v2(val_augmented_dataset, target_keys=(\"all\"))\n",
        "val_augmented_dataloader = torch.utils.data.DataLoader(\n",
        "    val_augmented_dataset,\n",
        "    batch_size=8,\n",
        "    shuffle=True,\n",
        "    collate_fn=utils.collate_fn,\n",
        ")\n"
      ],
      "metadata": {
        "id": "ITALmubyc3eK",
        "colab": {
          "base_uri": "https://localhost:8080/"
        },
        "outputId": "0ba8fef1-62bb-4697-ea44-44fa69720c50"
      },
      "execution_count": null,
      "outputs": [
        {
          "output_type": "stream",
          "name": "stdout",
          "text": [
            "loading annotations into memory...\n",
            "Done (t=0.25s)\n",
            "creating index...\n",
            "index created!\n"
          ]
        }
      ]
    },
    {
      "cell_type": "code",
      "source": [
        "### Loading 500 Real Natural Light Validation Set from COCO\n",
        "VAL500_IMAGES_PATH = Path(\"/content/coco/coco/val500\")\n",
        "VAL500_ANNOTATIONS_PATH = Path(\"/content/drive/MyDrive/AI/coco/instances_val2017_subset500.json\")\n",
        "val_original_dataset = datasets.CocoDetection(VAL500_IMAGES_PATH, VAL500_ANNOTATIONS_PATH, transform=ToTensor())\n",
        "val_original_dataset = datasets.wrap_dataset_for_transforms_v2(val_original_dataset, target_keys=(\"all\"))\n",
        "val_original_dataloader = torch.utils.data.DataLoader(\n",
        "    val_original_dataset,\n",
        "    batch_size=8,\n",
        "    shuffle=True,\n",
        "    collate_fn=utils.collate_fn,\n",
        ")\n"
      ],
      "metadata": {
        "colab": {
          "base_uri": "https://localhost:8080/"
        },
        "id": "Aq9y-DvNMSVB",
        "outputId": "c2519230-b468-4c58-93d1-328c294d9951"
      },
      "execution_count": null,
      "outputs": [
        {
          "output_type": "stream",
          "name": "stdout",
          "text": [
            "loading annotations into memory...\n",
            "Done (t=0.04s)\n",
            "creating index...\n",
            "index created!\n"
          ]
        }
      ]
    },
    {
      "cell_type": "markdown",
      "source": [
        "#Training\n",
        "\n",
        "After loading pre-trained weight into Mask R-CNN model, fine tuning by continue training using synthetic low light images dataset, instead of natural light COCO dataset."
      ],
      "metadata": {
        "id": "2OfB3ctM47MH"
      }
    },
    {
      "cell_type": "code",
      "source": [
        "weights = MaskRCNN_ResNet50_FPN_Weights.DEFAULT\n",
        "finetune_model = maskrcnn_resnet50_fpn(weights=weights, progress=False)\n",
        "finetune_model.to(device)\n",
        "\n",
        "# Optimizer\n",
        "params = [p for p in finetune_model.parameters() if p.requires_grad]\n",
        "optimizer = torch.optim.Adam(params, lr=0.00005)\n",
        "\n",
        "# and a learning rate scheduler\n",
        "lr_scheduler = torch.optim.lr_scheduler.StepLR(\n",
        "    optimizer,\n",
        "    step_size=3,\n",
        "    gamma=0.1\n",
        ")\n",
        "\n",
        "# finetune_model.load_state_dict(torch.load('model_weights.pth'))"
      ],
      "metadata": {
        "colab": {
          "base_uri": "https://localhost:8080/"
        },
        "id": "2sJSTNlK64gD",
        "outputId": "5f451d52-771a-45d2-ac08-1ee8fdaef482"
      },
      "execution_count": null,
      "outputs": [
        {
          "output_type": "stream",
          "name": "stderr",
          "text": [
            "Downloading: \"https://download.pytorch.org/models/maskrcnn_resnet50_fpn_coco-bf2d0c1e.pth\" to /root/.cache/torch/hub/checkpoints/maskrcnn_resnet50_fpn_coco-bf2d0c1e.pth\n"
          ]
        }
      ]
    },
    {
      "cell_type": "code",
      "source": [
        "num_epochs = 10\n",
        "for epoch in range(num_epochs):\n",
        "    # Training\n",
        "    train_one_epoch(finetune_model, optimizer, train_dataloader, device, epoch, print_freq=10)\n",
        "    # Update the learning rate\n",
        "    lr_scheduler.step()\n",
        "\n",
        "# Save model weight for\n",
        "torch.save(finetune_model.state_dict(), 'model_weights.pth')"
      ],
      "metadata": {
        "colab": {
          "base_uri": "https://localhost:8080/"
        },
        "id": "CmWt6W6k7jkj",
        "outputId": "58068a58-5c00-45c9-fa53-f74ee41e59aa"
      },
      "execution_count": null,
      "outputs": [
        {
          "output_type": "stream",
          "name": "stdout",
          "text": [
            "Epoch: [0]  [ 0/50]  eta: 0:05:58  lr: 0.000001  loss: 2.1352 (2.1352)  loss_classifier: 0.6153 (0.6153)  loss_box_reg: 0.2389 (0.2389)  loss_mask: 0.4768 (0.4768)  loss_objectness: 0.7333 (0.7333)  loss_rpn_box_reg: 0.0710 (0.0710)  time: 7.1752  data: 2.8459  max mem: 6001\n",
            "Epoch: [0]  [10/50]  eta: 0:01:16  lr: 0.000011  loss: 1.3989 (1.4501)  loss_classifier: 0.3985 (0.4081)  loss_box_reg: 0.2726 (0.2548)  loss_mask: 0.4170 (0.4113)  loss_objectness: 0.2683 (0.3093)  loss_rpn_box_reg: 0.0434 (0.0666)  time: 1.9166  data: 0.2714  max mem: 7347\n",
            "Epoch: [0]  [20/50]  eta: 0:00:53  lr: 0.000021  loss: 1.3023 (1.4204)  loss_classifier: 0.3814 (0.4017)  loss_box_reg: 0.2726 (0.2608)  loss_mask: 0.3931 (0.3991)  loss_objectness: 0.1309 (0.2883)  loss_rpn_box_reg: 0.0434 (0.0705)  time: 1.4987  data: 0.0139  max mem: 7679\n",
            "Epoch: [0]  [30/50]  eta: 0:00:33  lr: 0.000032  loss: 1.0735 (1.3325)  loss_classifier: 0.3617 (0.3694)  loss_box_reg: 0.2540 (0.2413)  loss_mask: 0.3738 (0.3963)  loss_objectness: 0.1048 (0.2522)  loss_rpn_box_reg: 0.0439 (0.0733)  time: 1.5219  data: 0.0138  max mem: 7679\n",
            "Epoch: [0]  [40/50]  eta: 0:00:16  lr: 0.000042  loss: 0.9916 (1.2565)  loss_classifier: 0.2618 (0.3432)  loss_box_reg: 0.1945 (0.2282)  loss_mask: 0.3738 (0.3884)  loss_objectness: 0.0967 (0.2222)  loss_rpn_box_reg: 0.0471 (0.0745)  time: 1.4526  data: 0.0138  max mem: 7679\n",
            "Epoch: [0]  [49/50]  eta: 0:00:01  lr: 0.000050  loss: 0.9637 (1.2349)  loss_classifier: 0.2618 (0.3399)  loss_box_reg: 0.1979 (0.2337)  loss_mask: 0.3778 (0.3872)  loss_objectness: 0.0873 (0.2009)  loss_rpn_box_reg: 0.0507 (0.0732)  time: 1.4973  data: 0.0141  max mem: 7679\n",
            "Epoch: [0] Total time: 0:01:19 (1.5976 s / it)\n",
            "Epoch: [1]  [ 0/50]  eta: 0:02:06  lr: 0.000050  loss: 0.7187 (0.7187)  loss_classifier: 0.2461 (0.2461)  loss_box_reg: 0.1941 (0.1941)  loss_mask: 0.2370 (0.2370)  loss_objectness: 0.0246 (0.0246)  loss_rpn_box_reg: 0.0169 (0.0169)  time: 2.5208  data: 0.7905  max mem: 7679\n",
            "Epoch: [1]  [10/50]  eta: 0:01:09  lr: 0.000050  loss: 1.0042 (1.0914)  loss_classifier: 0.2818 (0.2908)  loss_box_reg: 0.2230 (0.2412)  loss_mask: 0.3662 (0.3662)  loss_objectness: 0.0849 (0.1036)  loss_rpn_box_reg: 0.0795 (0.0897)  time: 1.7335  data: 0.0874  max mem: 7679\n",
            "Epoch: [1]  [20/50]  eta: 0:00:50  lr: 0.000050  loss: 0.9551 (1.0643)  loss_classifier: 0.2629 (0.2872)  loss_box_reg: 0.2230 (0.2419)  loss_mask: 0.3603 (0.3552)  loss_objectness: 0.0830 (0.0964)  loss_rpn_box_reg: 0.0794 (0.0837)  time: 1.6412  data: 0.0161  max mem: 7679\n",
            "Epoch: [1]  [30/50]  eta: 0:00:32  lr: 0.000050  loss: 0.7652 (0.9732)  loss_classifier: 0.2083 (0.2555)  loss_box_reg: 0.1595 (0.2247)  loss_mask: 0.3434 (0.3425)  loss_objectness: 0.0497 (0.0818)  loss_rpn_box_reg: 0.0336 (0.0687)  time: 1.5508  data: 0.0149  max mem: 7679\n",
            "Epoch: [1]  [40/50]  eta: 0:00:15  lr: 0.000050  loss: 0.7643 (0.9555)  loss_classifier: 0.2083 (0.2533)  loss_box_reg: 0.1926 (0.2243)  loss_mask: 0.3178 (0.3403)  loss_objectness: 0.0399 (0.0744)  loss_rpn_box_reg: 0.0324 (0.0631)  time: 1.4685  data: 0.0144  max mem: 7679\n",
            "Epoch: [1]  [49/50]  eta: 0:00:01  lr: 0.000050  loss: 0.8810 (0.9514)  loss_classifier: 0.2296 (0.2534)  loss_box_reg: 0.2032 (0.2187)  loss_mask: 0.3232 (0.3428)  loss_objectness: 0.0470 (0.0746)  loss_rpn_box_reg: 0.0358 (0.0620)  time: 1.4885  data: 0.0136  max mem: 7679\n",
            "Epoch: [1] Total time: 0:01:18 (1.5680 s / it)\n",
            "Epoch: [2]  [ 0/50]  eta: 0:01:52  lr: 0.000050  loss: 0.6036 (0.6036)  loss_classifier: 0.1539 (0.1539)  loss_box_reg: 0.1173 (0.1173)  loss_mask: 0.2878 (0.2878)  loss_objectness: 0.0367 (0.0367)  loss_rpn_box_reg: 0.0079 (0.0079)  time: 2.2484  data: 0.8607  max mem: 7679\n",
            "Epoch: [2]  [10/50]  eta: 0:01:05  lr: 0.000050  loss: 0.8250 (0.8037)  loss_classifier: 0.1989 (0.1952)  loss_box_reg: 0.2346 (0.2009)  loss_mask: 0.3251 (0.3156)  loss_objectness: 0.0353 (0.0494)  loss_rpn_box_reg: 0.0322 (0.0425)  time: 1.6493  data: 0.0920  max mem: 7682\n",
            "Epoch: [2]  [20/50]  eta: 0:00:46  lr: 0.000050  loss: 0.8250 (0.8107)  loss_classifier: 0.1891 (0.1931)  loss_box_reg: 0.2158 (0.1995)  loss_mask: 0.3251 (0.3151)  loss_objectness: 0.0378 (0.0542)  loss_rpn_box_reg: 0.0435 (0.0488)  time: 1.5224  data: 0.0149  max mem: 7682\n",
            "Epoch: [2]  [30/50]  eta: 0:00:31  lr: 0.000050  loss: 0.7768 (0.7968)  loss_classifier: 0.1654 (0.1878)  loss_box_reg: 0.2054 (0.2009)  loss_mask: 0.3114 (0.3080)  loss_objectness: 0.0398 (0.0509)  loss_rpn_box_reg: 0.0391 (0.0492)  time: 1.5014  data: 0.0148  max mem: 7682\n",
            "Epoch: [2]  [40/50]  eta: 0:00:15  lr: 0.000050  loss: 0.8048 (0.8262)  loss_classifier: 0.1935 (0.2001)  loss_box_reg: 0.2104 (0.2087)  loss_mask: 0.2915 (0.3143)  loss_objectness: 0.0374 (0.0495)  loss_rpn_box_reg: 0.0386 (0.0536)  time: 1.5558  data: 0.0149  max mem: 7682\n",
            "Epoch: [2]  [49/50]  eta: 0:00:01  lr: 0.000050  loss: 0.8070 (0.8172)  loss_classifier: 0.2247 (0.1966)  loss_box_reg: 0.2104 (0.2078)  loss_mask: 0.3118 (0.3117)  loss_objectness: 0.0349 (0.0491)  loss_rpn_box_reg: 0.0510 (0.0520)  time: 1.6106  data: 0.0140  max mem: 7682\n",
            "Epoch: [2] Total time: 0:01:18 (1.5709 s / it)\n",
            "Epoch: [3]  [ 0/50]  eta: 0:01:49  lr: 0.000005  loss: 0.9250 (0.9250)  loss_classifier: 0.1835 (0.1835)  loss_box_reg: 0.2662 (0.2662)  loss_mask: 0.3386 (0.3386)  loss_objectness: 0.0629 (0.0629)  loss_rpn_box_reg: 0.0737 (0.0737)  time: 2.1954  data: 0.6111  max mem: 7682\n",
            "Epoch: [3]  [10/50]  eta: 0:01:06  lr: 0.000005  loss: 0.6832 (0.7467)  loss_classifier: 0.1514 (0.1570)  loss_box_reg: 0.1697 (0.1939)  loss_mask: 0.3028 (0.3065)  loss_objectness: 0.0276 (0.0350)  loss_rpn_box_reg: 0.0315 (0.0542)  time: 1.6657  data: 0.0685  max mem: 7682\n",
            "Epoch: [3]  [20/50]  eta: 0:00:49  lr: 0.000005  loss: 0.6832 (0.7366)  loss_classifier: 0.1499 (0.1540)  loss_box_reg: 0.1844 (0.2000)  loss_mask: 0.3028 (0.3006)  loss_objectness: 0.0282 (0.0345)  loss_rpn_box_reg: 0.0303 (0.0476)  time: 1.6238  data: 0.0153  max mem: 8222\n",
            "Epoch: [3]  [30/50]  eta: 0:00:32  lr: 0.000005  loss: 0.6174 (0.6861)  loss_classifier: 0.1320 (0.1418)  loss_box_reg: 0.1776 (0.1844)  loss_mask: 0.2676 (0.2872)  loss_objectness: 0.0252 (0.0309)  loss_rpn_box_reg: 0.0276 (0.0417)  time: 1.6106  data: 0.0155  max mem: 8222\n",
            "Epoch: [3]  [40/50]  eta: 0:00:16  lr: 0.000005  loss: 0.6105 (0.7191)  loss_classifier: 0.1280 (0.1512)  loss_box_reg: 0.1611 (0.1960)  loss_mask: 0.2676 (0.2916)  loss_objectness: 0.0233 (0.0334)  loss_rpn_box_reg: 0.0299 (0.0470)  time: 1.5651  data: 0.0154  max mem: 8222\n",
            "Epoch: [3]  [49/50]  eta: 0:00:01  lr: 0.000005  loss: 0.7196 (0.7051)  loss_classifier: 0.1418 (0.1482)  loss_box_reg: 0.1793 (0.1912)  loss_mask: 0.2924 (0.2904)  loss_objectness: 0.0271 (0.0317)  loss_rpn_box_reg: 0.0299 (0.0437)  time: 1.5088  data: 0.0151  max mem: 8222\n",
            "Epoch: [3] Total time: 0:01:18 (1.5799 s / it)\n",
            "Epoch: [4]  [ 0/50]  eta: 0:01:15  lr: 0.000005  loss: 0.8162 (0.8162)  loss_classifier: 0.1119 (0.1119)  loss_box_reg: 0.2229 (0.2229)  loss_mask: 0.3296 (0.3296)  loss_objectness: 0.0248 (0.0248)  loss_rpn_box_reg: 0.1270 (0.1270)  time: 1.5056  data: 0.1657  max mem: 8222\n",
            "Epoch: [4]  [10/50]  eta: 0:01:02  lr: 0.000005  loss: 0.5672 (0.5831)  loss_classifier: 0.0883 (0.1039)  loss_box_reg: 0.1381 (0.1581)  loss_mask: 0.2546 (0.2594)  loss_objectness: 0.0181 (0.0200)  loss_rpn_box_reg: 0.0312 (0.0417)  time: 1.5547  data: 0.0293  max mem: 8222\n",
            "Epoch: [4]  [20/50]  eta: 0:00:47  lr: 0.000005  loss: 0.5672 (0.6662)  loss_classifier: 0.0883 (0.1321)  loss_box_reg: 0.1381 (0.1837)  loss_mask: 0.2546 (0.2765)  loss_objectness: 0.0174 (0.0262)  loss_rpn_box_reg: 0.0320 (0.0476)  time: 1.5710  data: 0.0151  max mem: 8222\n",
            "Epoch: [4]  [30/50]  eta: 0:00:31  lr: 0.000005  loss: 0.6671 (0.6660)  loss_classifier: 0.1367 (0.1336)  loss_box_reg: 0.1548 (0.1772)  loss_mask: 0.2792 (0.2842)  loss_objectness: 0.0237 (0.0269)  loss_rpn_box_reg: 0.0378 (0.0441)  time: 1.5920  data: 0.0142  max mem: 8222\n",
            "Epoch: [4]  [40/50]  eta: 0:00:15  lr: 0.000005  loss: 0.6671 (0.6534)  loss_classifier: 0.1301 (0.1325)  loss_box_reg: 0.1601 (0.1730)  loss_mask: 0.2714 (0.2803)  loss_objectness: 0.0237 (0.0269)  loss_rpn_box_reg: 0.0284 (0.0407)  time: 1.5905  data: 0.0139  max mem: 8411\n",
            "Epoch: [4]  [49/50]  eta: 0:00:01  lr: 0.000005  loss: 0.5248 (0.6550)  loss_classifier: 0.1059 (0.1331)  loss_box_reg: 0.1557 (0.1737)  loss_mask: 0.2611 (0.2796)  loss_objectness: 0.0211 (0.0271)  loss_rpn_box_reg: 0.0200 (0.0414)  time: 1.5641  data: 0.0139  max mem: 8411\n",
            "Epoch: [4] Total time: 0:01:18 (1.5714 s / it)\n",
            "Epoch: [5]  [ 0/50]  eta: 0:02:17  lr: 0.000005  loss: 0.5572 (0.5572)  loss_classifier: 0.0720 (0.0720)  loss_box_reg: 0.1152 (0.1152)  loss_mask: 0.3219 (0.3219)  loss_objectness: 0.0186 (0.0186)  loss_rpn_box_reg: 0.0295 (0.0295)  time: 2.7580  data: 1.0314  max mem: 8411\n",
            "Epoch: [5]  [10/50]  eta: 0:01:01  lr: 0.000005  loss: 0.5750 (0.7297)  loss_classifier: 0.0904 (0.1469)  loss_box_reg: 0.1558 (0.1819)  loss_mask: 0.3187 (0.3095)  loss_objectness: 0.0224 (0.0345)  loss_rpn_box_reg: 0.0380 (0.0569)  time: 1.5486  data: 0.1094  max mem: 8411\n",
            "Epoch: [5]  [20/50]  eta: 0:00:47  lr: 0.000005  loss: 0.6752 (0.6993)  loss_classifier: 0.1210 (0.1423)  loss_box_reg: 0.1628 (0.1816)  loss_mask: 0.2816 (0.2950)  loss_objectness: 0.0224 (0.0299)  loss_rpn_box_reg: 0.0494 (0.0505)  time: 1.5100  data: 0.0165  max mem: 8411\n",
            "Epoch: [5]  [30/50]  eta: 0:00:31  lr: 0.000005  loss: 0.5104 (0.6404)  loss_classifier: 0.0851 (0.1275)  loss_box_reg: 0.1477 (0.1637)  loss_mask: 0.2427 (0.2794)  loss_objectness: 0.0219 (0.0277)  loss_rpn_box_reg: 0.0184 (0.0421)  time: 1.5872  data: 0.0150  max mem: 8411\n",
            "Epoch: [5]  [40/50]  eta: 0:00:15  lr: 0.000005  loss: 0.5248 (0.6391)  loss_classifier: 0.0950 (0.1266)  loss_box_reg: 0.1258 (0.1659)  loss_mask: 0.2616 (0.2800)  loss_objectness: 0.0166 (0.0252)  loss_rpn_box_reg: 0.0186 (0.0413)  time: 1.5867  data: 0.0146  max mem: 8411\n",
            "Epoch: [5]  [49/50]  eta: 0:00:01  lr: 0.000005  loss: 0.5805 (0.6240)  loss_classifier: 0.1047 (0.1243)  loss_box_reg: 0.1507 (0.1623)  loss_mask: 0.2616 (0.2739)  loss_objectness: 0.0163 (0.0247)  loss_rpn_box_reg: 0.0308 (0.0389)  time: 1.5750  data: 0.0141  max mem: 8411\n",
            "Epoch: [5] Total time: 0:01:18 (1.5697 s / it)\n",
            "Epoch: [6]  [ 0/50]  eta: 0:02:01  lr: 0.000000  loss: 0.8178 (0.8178)  loss_classifier: 0.1772 (0.1772)  loss_box_reg: 0.2520 (0.2520)  loss_mask: 0.2905 (0.2905)  loss_objectness: 0.0204 (0.0204)  loss_rpn_box_reg: 0.0778 (0.0778)  time: 2.4364  data: 0.7707  max mem: 8411\n",
            "Epoch: [6]  [10/50]  eta: 0:01:06  lr: 0.000000  loss: 0.5578 (0.6305)  loss_classifier: 0.0812 (0.1252)  loss_box_reg: 0.1357 (0.1554)  loss_mask: 0.2905 (0.2870)  loss_objectness: 0.0187 (0.0269)  loss_rpn_box_reg: 0.0284 (0.0360)  time: 1.6683  data: 0.0853  max mem: 8411\n",
            "Epoch: [6]  [20/50]  eta: 0:00:48  lr: 0.000000  loss: 0.4965 (0.5821)  loss_classifier: 0.0850 (0.1137)  loss_box_reg: 0.1357 (0.1522)  loss_mask: 0.2572 (0.2618)  loss_objectness: 0.0149 (0.0217)  loss_rpn_box_reg: 0.0241 (0.0327)  time: 1.5586  data: 0.0158  max mem: 8411\n",
            "Epoch: [6]  [30/50]  eta: 0:00:31  lr: 0.000000  loss: 0.5567 (0.5976)  loss_classifier: 0.1000 (0.1147)  loss_box_reg: 0.1566 (0.1548)  loss_mask: 0.2534 (0.2702)  loss_objectness: 0.0165 (0.0217)  loss_rpn_box_reg: 0.0241 (0.0360)  time: 1.5275  data: 0.0144  max mem: 8411\n",
            "Epoch: [6]  [40/50]  eta: 0:00:15  lr: 0.000000  loss: 0.5725 (0.5995)  loss_classifier: 0.1000 (0.1149)  loss_box_reg: 0.1496 (0.1530)  loss_mask: 0.2686 (0.2714)  loss_objectness: 0.0225 (0.0226)  loss_rpn_box_reg: 0.0332 (0.0376)  time: 1.5178  data: 0.0142  max mem: 8411\n",
            "Epoch: [6]  [49/50]  eta: 0:00:01  lr: 0.000000  loss: 0.5725 (0.6066)  loss_classifier: 0.1083 (0.1174)  loss_box_reg: 0.1497 (0.1560)  loss_mask: 0.2710 (0.2726)  loss_objectness: 0.0194 (0.0229)  loss_rpn_box_reg: 0.0272 (0.0377)  time: 1.5323  data: 0.0142  max mem: 8411\n",
            "Epoch: [6] Total time: 0:01:17 (1.5595 s / it)\n",
            "Epoch: [7]  [ 0/50]  eta: 0:02:58  lr: 0.000000  loss: 0.6670 (0.6670)  loss_classifier: 0.1482 (0.1482)  loss_box_reg: 0.1908 (0.1908)  loss_mask: 0.2731 (0.2731)  loss_objectness: 0.0181 (0.0181)  loss_rpn_box_reg: 0.0367 (0.0367)  time: 3.5690  data: 1.6205  max mem: 8411\n",
            "Epoch: [7]  [10/50]  eta: 0:01:09  lr: 0.000000  loss: 0.5517 (0.5605)  loss_classifier: 0.0984 (0.1047)  loss_box_reg: 0.1272 (0.1418)  loss_mask: 0.2662 (0.2659)  loss_objectness: 0.0154 (0.0165)  loss_rpn_box_reg: 0.0334 (0.0315)  time: 1.7384  data: 0.1610  max mem: 8411\n",
            "Epoch: [7]  [20/50]  eta: 0:00:47  lr: 0.000000  loss: 0.5403 (0.5593)  loss_classifier: 0.0948 (0.1089)  loss_box_reg: 0.1209 (0.1411)  loss_mask: 0.2471 (0.2594)  loss_objectness: 0.0149 (0.0222)  loss_rpn_box_reg: 0.0277 (0.0278)  time: 1.5012  data: 0.0149  max mem: 8411\n",
            "Epoch: [7]  [30/50]  eta: 0:00:31  lr: 0.000000  loss: 0.6093 (0.5994)  loss_classifier: 0.0959 (0.1198)  loss_box_reg: 0.1333 (0.1522)  loss_mask: 0.2691 (0.2665)  loss_objectness: 0.0218 (0.0234)  loss_rpn_box_reg: 0.0282 (0.0376)  time: 1.4669  data: 0.0149  max mem: 8411\n",
            "Epoch: [7]  [40/50]  eta: 0:00:15  lr: 0.000000  loss: 0.6105 (0.5948)  loss_classifier: 0.1146 (0.1174)  loss_box_reg: 0.1510 (0.1523)  loss_mask: 0.2665 (0.2660)  loss_objectness: 0.0154 (0.0216)  loss_rpn_box_reg: 0.0282 (0.0375)  time: 1.5386  data: 0.0148  max mem: 8411\n",
            "Epoch: [7]  [49/50]  eta: 0:00:01  lr: 0.000000  loss: 0.5766 (0.5977)  loss_classifier: 0.1084 (0.1170)  loss_box_reg: 0.1510 (0.1552)  loss_mask: 0.2632 (0.2672)  loss_objectness: 0.0153 (0.0213)  loss_rpn_box_reg: 0.0236 (0.0371)  time: 1.5764  data: 0.0142  max mem: 8411\n",
            "Epoch: [7] Total time: 0:01:18 (1.5769 s / it)\n",
            "Epoch: [8]  [ 0/50]  eta: 0:02:29  lr: 0.000000  loss: 0.3721 (0.3721)  loss_classifier: 0.0432 (0.0432)  loss_box_reg: 0.0741 (0.0741)  loss_mask: 0.2401 (0.2401)  loss_objectness: 0.0042 (0.0042)  loss_rpn_box_reg: 0.0105 (0.0105)  time: 2.9877  data: 1.1631  max mem: 8411\n",
            "Epoch: [8]  [10/50]  eta: 0:01:08  lr: 0.000000  loss: 0.4157 (0.4907)  loss_classifier: 0.0689 (0.0802)  loss_box_reg: 0.1015 (0.1259)  loss_mask: 0.2272 (0.2401)  loss_objectness: 0.0107 (0.0133)  loss_rpn_box_reg: 0.0125 (0.0313)  time: 1.7026  data: 0.1229  max mem: 8411\n",
            "Epoch: [8]  [20/50]  eta: 0:00:48  lr: 0.000000  loss: 0.5057 (0.5508)  loss_classifier: 0.0911 (0.1013)  loss_box_reg: 0.1234 (0.1409)  loss_mask: 0.2495 (0.2584)  loss_objectness: 0.0139 (0.0195)  loss_rpn_box_reg: 0.0136 (0.0307)  time: 1.5449  data: 0.0176  max mem: 8411\n",
            "Epoch: [8]  [30/50]  eta: 0:00:32  lr: 0.000000  loss: 0.6010 (0.5760)  loss_classifier: 0.1168 (0.1081)  loss_box_reg: 0.1469 (0.1426)  loss_mask: 0.2775 (0.2682)  loss_objectness: 0.0226 (0.0228)  loss_rpn_box_reg: 0.0290 (0.0342)  time: 1.5750  data: 0.0151  max mem: 8411\n",
            "Epoch: [8]  [40/50]  eta: 0:00:16  lr: 0.000000  loss: 0.6010 (0.5865)  loss_classifier: 0.1039 (0.1124)  loss_box_reg: 0.1469 (0.1490)  loss_mask: 0.2590 (0.2679)  loss_objectness: 0.0149 (0.0220)  loss_rpn_box_reg: 0.0326 (0.0353)  time: 1.6013  data: 0.0142  max mem: 8411\n",
            "Epoch: [8]  [49/50]  eta: 0:00:01  lr: 0.000000  loss: 0.5135 (0.5985)  loss_classifier: 0.1012 (0.1155)  loss_box_reg: 0.1336 (0.1542)  loss_mask: 0.2503 (0.2707)  loss_objectness: 0.0115 (0.0209)  loss_rpn_box_reg: 0.0279 (0.0372)  time: 1.5700  data: 0.0139  max mem: 8411\n",
            "Epoch: [8] Total time: 0:01:19 (1.5954 s / it)\n",
            "Epoch: [9]  [ 0/50]  eta: 0:02:05  lr: 0.000000  loss: 0.5697 (0.5697)  loss_classifier: 0.1174 (0.1174)  loss_box_reg: 0.1552 (0.1552)  loss_mask: 0.2326 (0.2326)  loss_objectness: 0.0198 (0.0198)  loss_rpn_box_reg: 0.0447 (0.0447)  time: 2.5165  data: 0.7587  max mem: 8411\n",
            "Epoch: [9]  [10/50]  eta: 0:01:05  lr: 0.000000  loss: 0.5866 (0.6176)  loss_classifier: 0.1074 (0.1200)  loss_box_reg: 0.1552 (0.1557)  loss_mask: 0.2929 (0.2804)  loss_objectness: 0.0231 (0.0287)  loss_rpn_box_reg: 0.0335 (0.0328)  time: 1.6270  data: 0.0858  max mem: 8411\n",
            "Epoch: [9]  [20/50]  eta: 0:00:47  lr: 0.000000  loss: 0.5655 (0.5712)  loss_classifier: 0.0976 (0.1055)  loss_box_reg: 0.1339 (0.1470)  loss_mask: 0.2800 (0.2611)  loss_objectness: 0.0203 (0.0231)  loss_rpn_box_reg: 0.0246 (0.0344)  time: 1.5202  data: 0.0163  max mem: 8411\n",
            "Epoch: [9]  [30/50]  eta: 0:00:31  lr: 0.000000  loss: 0.5691 (0.5932)  loss_classifier: 0.1077 (0.1114)  loss_box_reg: 0.1363 (0.1539)  loss_mask: 0.2800 (0.2688)  loss_objectness: 0.0211 (0.0230)  loss_rpn_box_reg: 0.0289 (0.0361)  time: 1.5791  data: 0.0143  max mem: 8411\n",
            "Epoch: [9]  [40/50]  eta: 0:00:15  lr: 0.000000  loss: 0.6547 (0.6068)  loss_classifier: 0.1206 (0.1168)  loss_box_reg: 0.1563 (0.1544)  loss_mask: 0.3030 (0.2728)  loss_objectness: 0.0216 (0.0232)  loss_rpn_box_reg: 0.0367 (0.0395)  time: 1.5909  data: 0.0146  max mem: 8411\n",
            "Epoch: [9]  [49/50]  eta: 0:00:01  lr: 0.000000  loss: 0.5814 (0.5939)  loss_classifier: 0.1152 (0.1152)  loss_box_reg: 0.1537 (0.1526)  loss_mask: 0.2610 (0.2669)  loss_objectness: 0.0155 (0.0217)  loss_rpn_box_reg: 0.0291 (0.0374)  time: 1.5407  data: 0.0145  max mem: 8411\n",
            "Epoch: [9] Total time: 0:01:18 (1.5716 s / it)\n"
          ]
        }
      ]
    },
    {
      "cell_type": "code",
      "source": [
        "evaluate(finetune_model, val_augmented_dataloader, device=device)\n",
        "evaluate(finetune_model, val_original_dataloader, device=device)"
      ],
      "metadata": {
        "colab": {
          "base_uri": "https://localhost:8080/"
        },
        "id": "6MY5Nvey763j",
        "outputId": "28bebe8d-8f0f-45b6-fcf7-c6fc24b0656a"
      },
      "execution_count": null,
      "outputs": [
        {
          "output_type": "stream",
          "name": "stdout",
          "text": [
            "Test:  [ 0/63]  eta: 0:06:58  model_time: 2.4631 (2.4631)  evaluator_time: 0.2425 (0.2425)  time: 6.6391  data: 3.9271  max mem: 12661\n",
            "Test:  [62/63]  eta: 0:00:05  model_time: 1.5816 (1.5881)  evaluator_time: 0.2439 (0.3103)  time: 4.3942  data: 2.5636  max mem: 12668\n",
            "Test: Total time: 0:05:20 (5.0825 s / it)\n",
            "Averaged stats: model_time: 1.5816 (1.5881)  evaluator_time: 0.2439 (0.3103)\n",
            "Accumulating evaluation results...\n",
            "DONE (t=0.92s).\n",
            "Accumulating evaluation results...\n",
            "DONE (t=0.91s).\n",
            "IoU metric: bbox\n",
            " Average Precision  (AP) @[ IoU=0.50:0.95 | area=   all | maxDets=100 ] = 0.161\n",
            " Average Precision  (AP) @[ IoU=0.50      | area=   all | maxDets=100 ] = 0.282\n",
            " Average Precision  (AP) @[ IoU=0.75      | area=   all | maxDets=100 ] = 0.172\n",
            " Average Precision  (AP) @[ IoU=0.50:0.95 | area= small | maxDets=100 ] = 0.085\n",
            " Average Precision  (AP) @[ IoU=0.50:0.95 | area=medium | maxDets=100 ] = 0.174\n",
            " Average Precision  (AP) @[ IoU=0.50:0.95 | area= large | maxDets=100 ] = 0.246\n",
            " Average Recall     (AR) @[ IoU=0.50:0.95 | area=   all | maxDets=  1 ] = 0.185\n",
            " Average Recall     (AR) @[ IoU=0.50:0.95 | area=   all | maxDets= 10 ] = 0.244\n",
            " Average Recall     (AR) @[ IoU=0.50:0.95 | area=   all | maxDets=100 ] = 0.247\n",
            " Average Recall     (AR) @[ IoU=0.50:0.95 | area= small | maxDets=100 ] = 0.108\n",
            " Average Recall     (AR) @[ IoU=0.50:0.95 | area=medium | maxDets=100 ] = 0.237\n",
            " Average Recall     (AR) @[ IoU=0.50:0.95 | area= large | maxDets=100 ] = 0.383\n",
            "IoU metric: segm\n",
            " Average Precision  (AP) @[ IoU=0.50:0.95 | area=   all | maxDets=100 ] = 0.147\n",
            " Average Precision  (AP) @[ IoU=0.50      | area=   all | maxDets=100 ] = 0.254\n",
            " Average Precision  (AP) @[ IoU=0.75      | area=   all | maxDets=100 ] = 0.149\n",
            " Average Precision  (AP) @[ IoU=0.50:0.95 | area= small | maxDets=100 ] = 0.070\n",
            " Average Precision  (AP) @[ IoU=0.50:0.95 | area=medium | maxDets=100 ] = 0.161\n",
            " Average Precision  (AP) @[ IoU=0.50:0.95 | area= large | maxDets=100 ] = 0.249\n",
            " Average Recall     (AR) @[ IoU=0.50:0.95 | area=   all | maxDets=  1 ] = 0.169\n",
            " Average Recall     (AR) @[ IoU=0.50:0.95 | area=   all | maxDets= 10 ] = 0.214\n",
            " Average Recall     (AR) @[ IoU=0.50:0.95 | area=   all | maxDets=100 ] = 0.216\n",
            " Average Recall     (AR) @[ IoU=0.50:0.95 | area= small | maxDets=100 ] = 0.091\n",
            " Average Recall     (AR) @[ IoU=0.50:0.95 | area=medium | maxDets=100 ] = 0.224\n",
            " Average Recall     (AR) @[ IoU=0.50:0.95 | area= large | maxDets=100 ] = 0.334\n",
            "Test:  [ 0/63]  eta: 0:04:36  model_time: 1.3481 (1.3481)  evaluator_time: 0.3440 (0.3440)  time: 4.3895  data: 2.6911  max mem: 12668\n",
            "Test:  [62/63]  eta: 0:00:03  model_time: 1.4816 (1.4839)  evaluator_time: 0.2130 (0.2381)  time: 3.3094  data: 1.6111  max mem: 12668\n",
            "Test: Total time: 0:03:40 (3.4968 s / it)\n",
            "Averaged stats: model_time: 1.4816 (1.4839)  evaluator_time: 0.2130 (0.2381)\n",
            "Accumulating evaluation results...\n",
            "DONE (t=1.52s).\n",
            "Accumulating evaluation results...\n",
            "DONE (t=0.89s).\n",
            "IoU metric: bbox\n",
            " Average Precision  (AP) @[ IoU=0.50:0.95 | area=   all | maxDets=100 ] = 0.325\n",
            " Average Precision  (AP) @[ IoU=0.50      | area=   all | maxDets=100 ] = 0.524\n",
            " Average Precision  (AP) @[ IoU=0.75      | area=   all | maxDets=100 ] = 0.343\n",
            " Average Precision  (AP) @[ IoU=0.50:0.95 | area= small | maxDets=100 ] = 0.234\n",
            " Average Precision  (AP) @[ IoU=0.50:0.95 | area=medium | maxDets=100 ] = 0.374\n",
            " Average Precision  (AP) @[ IoU=0.50:0.95 | area= large | maxDets=100 ] = 0.447\n",
            " Average Recall     (AR) @[ IoU=0.50:0.95 | area=   all | maxDets=  1 ] = 0.294\n",
            " Average Recall     (AR) @[ IoU=0.50:0.95 | area=   all | maxDets= 10 ] = 0.435\n",
            " Average Recall     (AR) @[ IoU=0.50:0.95 | area=   all | maxDets=100 ] = 0.444\n",
            " Average Recall     (AR) @[ IoU=0.50:0.95 | area= small | maxDets=100 ] = 0.291\n",
            " Average Recall     (AR) @[ IoU=0.50:0.95 | area=medium | maxDets=100 ] = 0.479\n",
            " Average Recall     (AR) @[ IoU=0.50:0.95 | area= large | maxDets=100 ] = 0.570\n",
            "IoU metric: segm\n",
            " Average Precision  (AP) @[ IoU=0.50:0.95 | area=   all | maxDets=100 ] = 0.310\n",
            " Average Precision  (AP) @[ IoU=0.50      | area=   all | maxDets=100 ] = 0.497\n",
            " Average Precision  (AP) @[ IoU=0.75      | area=   all | maxDets=100 ] = 0.326\n",
            " Average Precision  (AP) @[ IoU=0.50:0.95 | area= small | maxDets=100 ] = 0.179\n",
            " Average Precision  (AP) @[ IoU=0.50:0.95 | area=medium | maxDets=100 ] = 0.345\n",
            " Average Precision  (AP) @[ IoU=0.50:0.95 | area= large | maxDets=100 ] = 0.459\n",
            " Average Recall     (AR) @[ IoU=0.50:0.95 | area=   all | maxDets=  1 ] = 0.287\n",
            " Average Recall     (AR) @[ IoU=0.50:0.95 | area=   all | maxDets= 10 ] = 0.406\n",
            " Average Recall     (AR) @[ IoU=0.50:0.95 | area=   all | maxDets=100 ] = 0.414\n",
            " Average Recall     (AR) @[ IoU=0.50:0.95 | area= small | maxDets=100 ] = 0.246\n",
            " Average Recall     (AR) @[ IoU=0.50:0.95 | area=medium | maxDets=100 ] = 0.442\n",
            " Average Recall     (AR) @[ IoU=0.50:0.95 | area= large | maxDets=100 ] = 0.543\n"
          ]
        },
        {
          "output_type": "execute_result",
          "data": {
            "text/plain": [
              "<coco_eval.CocoEvaluator at 0x7b7a66b10f10>"
            ]
          },
          "metadata": {},
          "execution_count": 23
        }
      ]
    }
  ]
}